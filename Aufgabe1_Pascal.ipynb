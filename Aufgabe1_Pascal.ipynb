{
 "cells": [
  {
   "cell_type": "markdown",
   "id": "1f09a162-3080-4956-a49c-d9b219aaa720",
   "metadata": {},
   "source": [
    "### From Load and Reprocessing"
   ]
  },
  {
   "cell_type": "code",
   "execution_count": null,
   "id": "c831eca8",
   "metadata": {},
   "outputs": [],
   "source": [
    "import pandas as pd\n",
    "import plotly.express as px"
   ]
  },
  {
   "cell_type": "code",
   "execution_count": null,
   "id": "878c7e2b-17f4-434c-a27b-fd44cb6e5c09",
   "metadata": {},
   "outputs": [],
   "source": [
    "%run 'Load_and_Preprocessing.ipynb'"
   ]
  },
  {
   "cell_type": "markdown",
   "id": "8e720365-0f0d-4e3b-8164-1554a53311cc",
   "metadata": {},
   "source": [
    "### Merge dataframes for analytics\n",
    "df_orders: orders with tip <br>\n",
    "df_order_products: ordered products with informations of the order, department and aisle."
   ]
  },
  {
   "cell_type": "code",
   "execution_count": null,
   "id": "e769e333",
   "metadata": {},
   "outputs": [],
   "source": [
    "df_order_products = df_order_products\n",
    "df_orders = df_orders"
   ]
  },
  {
   "cell_type": "code",
   "execution_count": null,
   "id": "0c7f2186",
   "metadata": {},
   "outputs": [],
   "source": [
    "df_orders['tip'] = df_orders['tip']*1\n",
    "df_tip_to_merge = df_orders[['user_id', 'order_number', 'order_hour_of_day', 'days_since_prior_order', 'tip']]"
   ]
  },
  {
   "cell_type": "code",
   "execution_count": null,
   "id": "d2e99f46",
   "metadata": {},
   "outputs": [],
   "source": [
    "\n",
    "# 1.1\n",
    "df_orders['previous_order_number'] = df_orders.apply(lambda x: x['order_number'] - 1, axis=1)\n",
    "df_tip = df_orders[df_orders['previous_order_number'] != 0]\n",
    "df_tip_analysis_1 =  pd.merge(left=df_tip, right=df_tip_to_merge, left_on=['user_id', 'previous_order_number'], right_on=['user_id', 'order_number'], how='inner', suffixes=['_next', '_previous'])\n",
    "df_tip_analysis_1 = df_tip_analysis_1[['user_id', 'order_number_next', 'tip_next', 'order_number_previous', 'tip_previous']] \n"
   ]
  },
  {
   "cell_type": "code",
   "execution_count": null,
   "id": "96b6a0a9",
   "metadata": {},
   "outputs": [],
   "source": [
    "path=['tip_previous', 'tip_next']\n",
    "px.parallel_categories(df_tip_analysis_1, dimensions=path, color='tip_next', title='Tip if tipped befored')"
   ]
  },
  {
   "cell_type": "code",
   "execution_count": null,
   "id": "4f770fc2",
   "metadata": {},
   "outputs": [],
   "source": [
    "print(f'Haben Trinkgeld bei der vorherigen Bestellung gegeben: {round(df_tip_analysis_1['tip_previous'].mean()*100, 3)}%')\n",
    "print(f'Haben Trinkgeld bei der nächsten Bestellung gegeben, wenn sie vorher Trinkgeld gegeben haben:\\\n",
    " {round(df_tip_analysis_1['tip_next'][df_tip_analysis_1['tip_previous']==1].mean()*100, 1)}%')\n",
    "print(f'Haben Trinkgeld bei der nächsten Bestellung gegeben, wenn sie vorher kein Trinkgeld gegeben haben:\\\n",
    " {round(df_tip_analysis_1['tip_next'][df_tip_analysis_1['tip_previous']==0].mean()*100, 1)}%')\n"
   ]
  },
  {
   "cell_type": "code",
   "execution_count": null,
   "id": "0039f2e0",
   "metadata": {},
   "outputs": [],
   "source": [
    "# 1.2\n",
    "\n",
    "df_orders['previous_order_number'] = df_orders.apply(lambda x: x['order_number'] - 1, axis=1)\n",
    "df_orders['before_previous_order_number'] = df_orders.apply(lambda x: x['order_number'] - 2, axis=1)\n",
    "\n",
    "df_tip = df_orders[df_orders['previous_order_number'] > 0]\n",
    "df_tip = df_orders[df_orders['before_previous_order_number'] > 0]\n",
    "\n",
    "df_tip_analysis_2 =  pd.merge(left=df_tip, right=df_tip_to_merge, left_on=['user_id', 'previous_order_number'], right_on=['user_id', 'order_number'], how='inner', suffixes=['', '_previous'])\n",
    "df_tip_analysis_2 =  pd.merge(left=df_tip_analysis_2, right=df_tip_to_merge, left_on=['user_id', 'before_previous_order_number'], right_on=['user_id', 'order_number'], how='inner', suffixes=['', '_before_previous'])\n",
    "\n",
    "df_tip_analysis_2 = df_tip_analysis_2[['user_id', 'order_number', 'tip', 'order_number_previous', 'tip_previous', 'order_number_before_previous', 'tip_before_previous']] "
   ]
  },
  {
   "cell_type": "code",
   "execution_count": null,
   "id": "3f0a1dae",
   "metadata": {},
   "outputs": [],
   "source": [
    "path=['tip_before_previous', 'tip_previous', 'tip']\n",
    "px.parallel_categories(df_tip_analysis_2, dimensions=path, color='tip', title='Tip if tipped befored')"
   ]
  },
  {
   "cell_type": "code",
   "execution_count": null,
   "id": "e576815a",
   "metadata": {},
   "outputs": [],
   "source": [
    "print(f'Haben Trinkgeld bei der vor-vorherigen Bestellung gegeben: {round(df_tip_analysis_2['tip_before_previous'].mean()*100, 3)}%')\n",
    "print(f'Haben Trinkgeld bei der nächsten Bestellung gegeben, wenn sie bei der vor-vorherigen Bestellung Trinkgeld gegeben haben:\\\n",
    " {round(df_tip_analysis_2['tip'][df_tip_analysis_2['tip_before_previous']==1].mean()*100, 1)}%')\n",
    "print(f'Haben Trinkgeld bei der nächsten Bestellung gegeben, wenn sie bei der vor-vorherigen Bestellung kein Trinkgeld gegeben haben:\\\n",
    " {round(df_tip_analysis_2['tip'][df_tip_analysis_2['tip_before_previous']==0].mean()*100, 1)}%')\n"
   ]
  },
  {
   "cell_type": "code",
   "execution_count": null,
   "id": "52042f7c",
   "metadata": {},
   "outputs": [],
   "source": [
    "print(f'Haben Trinkgeld bei der nächsten Bestellung gegeben, wenn sie bei den beiden voherigen Bestellungen Trinkgeld gegeben haben:\\\n",
    " {round(df_tip_analysis_2['tip'][(df_tip_analysis_2['tip_before_previous']==1) & (df_tip_analysis_2['tip_previous']==1)].mean()*100, 1)}%')\n",
    "print(f'Haben Trinkgeld bei der nächsten Bestellung gegeben, wenn sie bei den beiden voherigen Bestellungen kein Trinkgeld gegeben haben:\\\n",
    " {round(df_tip_analysis_2['tip'][(df_tip_analysis_2['tip_before_previous']==0) & (df_tip_analysis_2['tip_previous']==0)].mean()*100, 1)}%')"
   ]
  },
  {
   "cell_type": "code",
   "execution_count": null,
   "id": "7e0c3bff",
   "metadata": {},
   "outputs": [],
   "source": [
    "#aus 1.1 mit reduziertem Datensatz\n",
    "print(f'Haben Trinkgeld bei der vorherigen Bestellung gegeben: {round(df_tip_analysis_2['tip_previous'].mean()*100, 3)}%')\n",
    "print(f'Haben Trinkgeld bei der nächsten Bestellung gegeben, wenn sie bei der vorherigen Bestellung Trinkgeld gegeben haben:\\\n",
    " {round(df_tip_analysis_2['tip'][df_tip_analysis_2['tip_previous']==1].mean()*100, 1)}%')\n",
    "print(f'Haben Trinkgeld bei der nächsten Bestellung gegeben, wenn sie bei der vorherigen Bestellung kein Trinkgeld gegeben haben:\\\n",
    " {round(df_tip_analysis_2['tip'][df_tip_analysis_2['tip_previous']==0].mean()*100, 1)}%')"
   ]
  },
  {
   "cell_type": "code",
   "execution_count": null,
   "id": "82a06b9f",
   "metadata": {},
   "outputs": [],
   "source": [
    "df_tip_analysis_2"
   ]
  },
  {
   "cell_type": "code",
   "execution_count": null,
   "id": "d60e0093",
   "metadata": {},
   "outputs": [],
   "source": []
  }
 ],
 "metadata": {
  "kernelspec": {
   "display_name": "Python 3",
   "language": "python",
   "name": "python3"
  },
  "language_info": {
   "codemirror_mode": {
    "name": "ipython",
    "version": 3
   },
   "file_extension": ".py",
   "mimetype": "text/x-python",
   "name": "python",
   "nbconvert_exporter": "python",
   "pygments_lexer": "ipython3",
   "version": "3.13.0"
  }
 },
 "nbformat": 4,
 "nbformat_minor": 5
}
