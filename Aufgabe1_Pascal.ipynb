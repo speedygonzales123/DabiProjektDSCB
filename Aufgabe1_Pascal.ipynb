{
 "cells": [
  {
   "cell_type": "markdown",
   "id": "1f09a162-3080-4956-a49c-d9b219aaa720",
   "metadata": {},
   "source": [
    "### From Load and Reprocessing"
   ]
  },
  {
   "cell_type": "code",
   "execution_count": 1,
   "id": "c831eca8",
   "metadata": {},
   "outputs": [],
   "source": [
    "import pandas as pd\n",
    "import plotly.express as px\n",
    "\n",
    "from scipy.stats import chi2_contingency\n",
    "from scipy.stats import chi2"
   ]
  },
  {
   "cell_type": "code",
   "execution_count": null,
   "id": "878c7e2b-17f4-434c-a27b-fd44cb6e5c09",
   "metadata": {},
   "outputs": [],
   "source": [
    "%run 'Load_and_Preprocessing.ipynb'"
   ]
  },
  {
   "cell_type": "markdown",
   "id": "8e720365-0f0d-4e3b-8164-1554a53311cc",
   "metadata": {},
   "source": [
    "### Merge dataframes for analytics\n",
    "df_orders: orders with tip <br>\n",
    "df_order_products: ordered products with informations of the order, department and aisle."
   ]
  },
  {
   "cell_type": "code",
   "execution_count": 3,
   "id": "e769e333",
   "metadata": {},
   "outputs": [],
   "source": [
    "df_order_products = df_order_products\n",
    "df_orders = df_orders"
   ]
  },
  {
   "cell_type": "code",
   "execution_count": 4,
   "id": "0c7f2186",
   "metadata": {},
   "outputs": [],
   "source": [
    "df_orders['tip'] = df_orders['tip']*1\n",
    "#df_tip_to_merge = df_orders[['user_id', 'order_number', 'order_hour_of_day', 'days_since_prior_order', 'tip']]"
   ]
  },
  {
   "cell_type": "code",
   "execution_count": 5,
   "id": "28773460-e74c-4909-a7ae-102b2cff9c96",
   "metadata": {},
   "outputs": [],
   "source": [
    "df_orders = df_orders.sort_values(['user_id', 'order_number'])"
   ]
  },
  {
   "cell_type": "code",
   "execution_count": 6,
   "id": "4b194982-d48e-46b6-ad4b-0024ffa65694",
   "metadata": {},
   "outputs": [],
   "source": [
    "df_orders['tipped_before'] = df_orders.groupby('user_id')['tip'].shift(1)\n",
    "df_orders['tipped_before_last'] = df_orders.groupby('user_id')['tip'].shift(2)"
   ]
  },
  {
   "cell_type": "code",
   "execution_count": null,
   "id": "3cb9aa19-efd2-4b6f-bce0-ffd3d21ce6a2",
   "metadata": {},
   "outputs": [],
   "source": [
    "df_orders"
   ]
  },
  {
   "cell_type": "code",
   "execution_count": null,
   "id": "96b6a0a9",
   "metadata": {},
   "outputs": [],
   "source": [
    "df_orders_fig = df_orders[df_orders['tipped_before'].notna()]\n",
    "path=['tipped_before', 'tip']\n",
    "px.parallel_categories(df_orders_fig, dimensions=path, color='tip', title='Tip if tipped before')"
   ]
  },
  {
   "cell_type": "code",
   "execution_count": null,
   "id": "4f770fc2",
   "metadata": {},
   "outputs": [],
   "source": [
    "print(f'Haben Trinkgeld bei der vorherigen Bestellung gegeben: {round(df_orders_fig['tipped_before'].mean()*100, 3)}%')\n",
    "print(f'Haben Trinkgeld bei der nächsten Bestellung gegeben, wenn sie vorher Trinkgeld gegeben haben:\\\n",
    " {round(df_orders_fig['tip'][df_orders_fig['tipped_before']==1].mean()*100, 1)}%')\n",
    "print(f'Haben Trinkgeld bei der nächsten Bestellung gegeben, wenn sie vorher kein Trinkgeld gegeben haben:\\\n",
    " {round(df_orders_fig['tip'][df_orders_fig['tipped_before']==0].mean()*100, 1)}%')\n"
   ]
  },
  {
   "cell_type": "code",
   "execution_count": null,
   "id": "0039f2e0",
   "metadata": {},
   "outputs": [],
   "source": [
    "# 1.2\n",
    "df_orders_fig = df_orders[df_orders['tipped_before_last'].notna()]\n",
    "path=['tipped_before_last', 'tipped_before', 'tip']\n",
    "px.parallel_categories(df_orders_fig, dimensions=path, color='tip', title='Tip if tipped before')"
   ]
  },
  {
   "cell_type": "code",
   "execution_count": null,
   "id": "e576815a",
   "metadata": {},
   "outputs": [],
   "source": [
    "print(f'Haben Trinkgeld bei der vor-vorherigen Bestellung gegeben: {round(df_orders_fig['tipped_before_last'].mean()*100, 3)}%')\n",
    "print(f'Haben Trinkgeld bei der nächsten Bestellung gegeben, wenn sie bei der vor-vorherigen Bestellung Trinkgeld gegeben haben:\\\n",
    " {round(df_orders_fig['tip'][df_orders_fig['tipped_before_last']==1].mean()*100, 1)}%')\n",
    "print(f'Haben Trinkgeld bei der nächsten Bestellung gegeben, wenn sie bei der vor-vorherigen Bestellung kein Trinkgeld gegeben haben:\\\n",
    " {round(df_orders_fig['tip'][df_orders_fig['tipped_before_last']==0].mean()*100, 1)}%')\n"
   ]
  },
  {
   "cell_type": "code",
   "execution_count": null,
   "id": "52042f7c",
   "metadata": {},
   "outputs": [],
   "source": [
    "print(f'Haben Trinkgeld bei der nächsten Bestellung gegeben, wenn sie bei den beiden voherigen Bestellungen Trinkgeld gegeben haben:\\\n",
    " {round(df_orders_fig['tip'][(df_orders_fig['tipped_before_last']==1) & (df_orders_fig['tipped_before']==1)].mean()*100, 1)}%')\n",
    "print(f'Haben Trinkgeld bei der nächsten Bestellung gegeben, wenn sie bei den beiden voherigen Bestellungen kein Trinkgeld gegeben haben:\\\n",
    " {round(df_orders_fig['tip'][(df_orders_fig['tipped_before_last']==0) & (df_orders_fig['tipped_before']==0)].mean()*100, 1)}%')"
   ]
  },
  {
   "cell_type": "code",
   "execution_count": null,
   "id": "7e0c3bff",
   "metadata": {},
   "outputs": [],
   "source": [
    "#aus 1.1 mit reduziertem Datensatz\n",
    "print(f'Haben Trinkgeld bei der vorherigen Bestellung gegeben: {round(df_orders_fig['tipped_before'].mean()*100, 3)}%')\n",
    "print(f'Haben Trinkgeld bei der nächsten Bestellung gegeben, wenn sie bei der vorherigen Bestellung Trinkgeld gegeben haben:\\\n",
    " {round(df_orders_fig['tip'][df_orders_fig['tipped_before']==1].mean()*100, 1)}%')\n",
    "print(f'Haben Trinkgeld bei der nächsten Bestellung gegeben, wenn sie bei der vorherigen Bestellung kein Trinkgeld gegeben haben:\\\n",
    " {round(df_orders_fig['tip'][df_orders_fig['tipped_before']==0].mean()*100, 1)}%')"
   ]
  },
  {
   "cell_type": "code",
   "execution_count": 14,
   "id": "c24f2427",
   "metadata": {},
   "outputs": [],
   "source": [
    "# 1.3 chi quadrat test auf 2 Tabellen, dann addieren"
   ]
  },
  {
   "cell_type": "code",
   "execution_count": null,
   "id": "82a06b9f",
   "metadata": {},
   "outputs": [],
   "source": [
    "df_orders.head(3)"
   ]
  },
  {
   "cell_type": "code",
   "execution_count": null,
   "id": "d60e0093",
   "metadata": {},
   "outputs": [],
   "source": [
    "table_1 = pd.crosstab(df_orders['tipped_before'], df_orders['tip'])\n",
    "table_1"
   ]
  },
  {
   "cell_type": "code",
   "execution_count": 18,
   "id": "52ba51ee",
   "metadata": {},
   "outputs": [],
   "source": [
    "ch2_1, p_1, dof_1, expected_1 = chi2_contingency(table_1)\n",
    "# ch2: value of test statistic chi-squared\n",
    "# p: p-value\n",
    "# dof: degrees of freedom\n",
    "# expected: expected frequencies if independent"
   ]
  },
  {
   "cell_type": "code",
   "execution_count": null,
   "id": "4d861b93-0e91-4471-8bd7-34081a2e433c",
   "metadata": {},
   "outputs": [],
   "source": [
    "print('Chi2-Wert=%.6f' % (ch2_1))\n",
    "print('dof=%.6f' % (dof_1))\n",
    "print('p-value=%.6f' % (p_1))"
   ]
  },
  {
   "cell_type": "code",
   "execution_count": null,
   "id": "c04ce160-3b34-4fd7-9bd0-e85db52b90a8",
   "metadata": {},
   "outputs": [],
   "source": [
    "table_2 = pd.crosstab(df_orders['tipped_before_last'], df_orders['tip'])\n",
    "table_2"
   ]
  },
  {
   "cell_type": "code",
   "execution_count": 22,
   "id": "bd19a895-b79d-4f7a-9250-55d864220454",
   "metadata": {},
   "outputs": [],
   "source": [
    "ch2_2, p_2, dof_2, expected_2 = chi2_contingency(table_2)\n",
    "# ch2: value of test statistic chi-squared\n",
    "# p: p-value\n",
    "# dof: degrees of freedom\n",
    "# expected: expected frequencies if independent"
   ]
  },
  {
   "cell_type": "code",
   "execution_count": null,
   "id": "c7801fdd-724d-4c3a-a045-9650648f00d1",
   "metadata": {},
   "outputs": [],
   "source": [
    "print('Chi2-Wert=%.6f' % (ch2_2))\n",
    "print('dof=%.6f' % (dof_2))\n",
    "print('p-value=%.6f' % (p_1))"
   ]
  },
  {
   "cell_type": "code",
   "execution_count": null,
   "id": "87b5c8a2-5206-4581-9f32-6c7a6b3fd1ba",
   "metadata": {},
   "outputs": [],
   "source": [
    "ch2_gesamt = ch2_1+ch2_2\n",
    "dof_gesamt = dof_1+dof_2\n",
    "p_gesamt = 1-chi2.cdf(ch2_gesamt,dof_gesamt)\n",
    "print('Chi2-Wert=%.6f' % (ch2_gesamt))\n",
    "print('dof=%.6f' % (dof_gesamt))\n",
    "print('p-value=%.6f' % (p_gesamt))"
   ]
  },
  {
   "cell_type": "code",
   "execution_count": null,
   "id": "f4d057ca-6cb8-4379-ad10-fbf69cf88df8",
   "metadata": {},
   "outputs": [],
   "source": []
  }
 ],
 "metadata": {
  "kernelspec": {
   "display_name": "Python 3",
   "language": "python",
   "name": "python3"
  },
  "language_info": {
   "codemirror_mode": {
    "name": "ipython",
    "version": 3
   },
   "file_extension": ".py",
   "mimetype": "text/x-python",
   "name": "python",
   "nbconvert_exporter": "python",
   "pygments_lexer": "ipython3",
   "version": "3.13.0"
  }
 },
 "nbformat": 4,
 "nbformat_minor": 5
}
