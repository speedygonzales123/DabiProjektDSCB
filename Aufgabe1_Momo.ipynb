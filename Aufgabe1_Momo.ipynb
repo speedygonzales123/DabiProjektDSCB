{
 "cells": [
  {
   "metadata": {},
   "cell_type": "markdown",
   "source": "### Import and check data",
   "id": "4d6b0dc4d9eaa5be"
  },
  {
   "metadata": {},
   "cell_type": "markdown",
   "source": "",
   "id": "2cb333ebe85d4a55"
  },
  {
   "metadata": {},
   "cell_type": "code",
   "outputs": [],
   "execution_count": null,
   "source": "%run 'Load_and_Preprocessing.ipynb'",
   "id": "f1cec413d0079e3e"
  },
  {
   "metadata": {},
   "cell_type": "code",
   "outputs": [],
   "execution_count": null,
   "source": [
    "df_order_products = df_order_products\n",
    "df_orders= df_orders"
   ],
   "id": "2b7b1f0c99b35002"
  },
  {
   "metadata": {},
   "cell_type": "markdown",
   "source": [
    "### Merge dataframes for analytics\n",
    "df_orders: orders with tip <br>\n",
    "df_order_products: ordered products with informations of the order, department and aisle."
   ],
   "id": "cfd3443649aa0bf9"
  },
  {
   "metadata": {},
   "cell_type": "code",
   "outputs": [],
   "execution_count": null,
   "source": [
    "\n",
    "import pandas as pd\n",
    "import plotly.express as px\n",
    "\n",
    "# Angenommen, df ist der DataFrame, der die relevanten Daten enthält\n",
    "# Zuerst sortieren wir nach user_id und order_id (damit wir die Reihenfolge der Bestellungen haben)\n",
    "df = df_orders.sort_values(by=[\"user_id\", \"order_id\"])\n",
    "\n",
    "# Erstellen einer neuen Spalte, die das Trinkgeldverhalten der vorherigen Bestellung anzeigt\n",
    "#df[\"previous_tip\"] = df.groupby(\"user_id\")[\"tip\"].shift(1)\n",
    "\n",
    "df[\"previous_tip\"] = df[\"tip\"].shift(1)\n",
    "\n",
    "\n",
    "# Filtern der Zeilen, bei denen es eine vorherige Bestellung gibt\n",
    "df_filtered = df[df[\"previous_tip\"].notna()]\n",
    "\n",
    "# Untersuchen, ob es einen Zusammenhang zwischen dem Trinkgeldverhalten der vorherigen Bestellung und der aktuellen Bestellung gibt\n",
    "# Wir erstellen einen einfachen Plot, der die Verteilung der Trinkgeldverhalten für aktuelle und vorherige Bestellungen anzeigt\n",
    "\n",
    "fig = px.histogram(df_filtered, x=\"previous_tip\", color=\"tip\",\n",
    "                   labels={\"previous_tip\": \"Trinkgeld vorherige Bestellung\",\n",
    "                           \"tip\": \"Trinkgeld aktuelle Bestellung\"},\n",
    "                   title=\"Zusammenhang zwischen Trinkgeld bei vorheriger und aktueller Bestellung\",\n",
    "                   category_orders={\"tip\": [True, False], \"previous_tip\": [True, False]})\n",
    "\n",
    "fig.show()\n"
   ],
   "id": "d2e1ddc018ce114c"
  },
  {
   "metadata": {},
   "cell_type": "code",
   "outputs": [],
   "execution_count": null,
   "source": "df",
   "id": "166b09c54ef223f0"
  },
  {
   "metadata": {},
   "cell_type": "markdown",
   "source": [
    "### 3 Aufgabenstellungen\n",
    "## 3.1 Explorative Datenanalyse für Marketing und Disposition\n",
    "\n",
    "Als erstes wird eine explorative Analyse des Datensatzes für die Marketing- und Dispositionsabteilung\n",
    "erwartet. Ihre Aufgabe ist eine zielgruppengerechte Aufbereitung zweier „Data Stories“ (je Abteilung\n",
    "eine) durch die die Stakeholder in der Lage sein sollen, das Geschäftsfeld besser zu durchdringen und\n",
    "Rückschlüsse für die eigenen betrieblichen Handlungsbereiche aus den Daten zu ziehen. Die\n",
    "Stakeholder erwarten hierfür im Jupyter-Notebook einen Bereich „EDA für Marketing und\n",
    "Disposition“.\n",
    "\n",
    "Für die Analyse sind zunächst einige Vorverarbeitungsschritte nötig. Nutzen Sie Ihre Kenntnisse in\n",
    "Python (bzw. den besprochenen Bibliotheken), um die Daten grundsätzlich zu verstehen, zu\n",
    "kombinieren und ggf. anzureichern.\n",
    "Die Marketing-Abteilung erhofft sich Erkenntnisse, die zur Optimierung des Produktkatalogs und der\n",
    "Produktplatzierung auf der statischen Website verwendet werden können. Wenn viele Kunden bspw.\n",
    "„Flour“ und „Eggs“ zusammen kaufen, könnten beide Produkte nebeneinander auf der Website platziert\n",
    "werden. Der Zusammenhang muss nicht zwingend wie im Beispiel auf Produktebene hergestellt\n",
    "werden, sondern kann auch auf der Ebene Kategorie („department“) oder Gang („aisle“) erfolgen.\n",
    "Die Disposition erwartet von Ihrem Team Erkenntnisse über Unterschiede im Kundenverhalten\n",
    "bezüglich des Trinkgelds. So soll vermieden werden, dass manche Mitarbeiter des Unternehmens\n",
    "regelmäßig mehr Trinkgeld erhalten als andere (bspw. durch eine geänderte Zuordnung der Kunden zu\n",
    "den Kurieren).\n",
    "\n",
    "In den jeweiligen Analysen sind Sie sehr frei. Nutzen Sie Ihre Fähigkeiten zur tabellarischen und/oder\n",
    "grafischen Aufbereitung der Daten sowie die statistischen Methoden, die Sie im Laufe des Studiums\n",
    "erlernt haben. Strukturieren Sie das Notebook nachvollziehbar und bereiten Sie die Erkenntnisse\n",
    "zielgruppengerecht auf. Belegen Sie dabei Ihre Schlussfolgerungen anhand der Daten in\n",
    "angemessenem Detailgrad. Die Kenntnis gängiger statistischer Kennzahlen und ihrer Interpretation\n",
    "können Sie als bekannt voraussetzen.2"
   ],
   "id": "fe158cd3306e14d"
  },
  {
   "metadata": {},
   "cell_type": "markdown",
   "source": [
    "## 3.2 Konkrete Fragen der Stakeholder\n",
    "Die Stakeholder haben folgende konkrete Aufgaben bzw. Fragen für Ihren Beratungsauftrag formuliert:\n",
    "\n",
    "Frage 1: Hängt die Wahrscheinlichkeit, dass bei einer Bestellung Trinkgeld gegeben wird, vom\n",
    "Trinkgeldverhalten bei früheren Bestellungen desselben Bestellers ab?\n",
    "\n",
    "a)   Gibt es einen Zusammenhang bezüglich der vorhergehenden Bestellung?\n",
    "\n",
    "b)   Gibt es einen Zusammenhang bezüglich der vor-vorhergehenden Bestellung?\n",
    "\n",
    "c) Liefert das Trinkgeldverhalten der vor-vorhergehende Bestellung Informationen auch über das\n",
    "hinaus, was bereits aus der vorhergehenden Bestellung abgelesen werden kann?"
   ],
   "id": "f20fd526e52a8aa2"
  },
  {
   "metadata": {},
   "cell_type": "markdown",
   "source": [
    "# Vorgehensweise für die drei Unterfragen\n",
    "\n",
    "## a) Gibt es einen Zusammenhang bezüglich der vorhergehenden Bestellung?\n",
    "\n",
    "\t1.\tHypothesen:\n",
    "\t•\tH0: Das Trinkgeldverhalten einer Bestellung hängt nicht vom Trinkgeldverhalten der vorhergehenden Bestellung ab.\n",
    "\t•\tH1: Das Trinkgeldverhalten einer Bestellung hängt signifikant vom Trinkgeldverhalten der vorhergehenden Bestellung ab.\n",
    "\t2.\tAnalyse:\n",
    "\t•\tBerechne für jede Bestellung, ob bei der vorhergehenden Bestellung Trinkgeld gegeben wurde (previous_tip).\n",
    "\t•\tErstelle eine Kreuztabelle, um die Häufigkeit der Kombinationen von tip und previous_tip darzustellen.\n",
    "\t•\tFühre einen Chi-Quadrat-Test durch, um die Signifikanz des Zusammenhangs zu testen.\n",
    "\t3.\tErgebnisse:\n",
    "\t•\tPräsentiere die Kreuztabelle und den p-Wert des Chi-Quadrat-Tests.\n",
    "\t•\tInterpretiere den p-Wert: Ein p-Wert < 0,05 weist darauf hin, dass ein signifikanter Zusammenhang besteht.\n",
    "\n",
    "Beispiel:\n",
    "“Die Analyse zeigt, dass ein signifikanter Zusammenhang zwischen dem Trinkgeldverhalten der aktuellen Bestellung und der vorhergehenden Bestellung besteht (p-Wert = 0,03). Kunden, die bei der vorhergehenden Bestellung Trinkgeld gegeben haben, tendieren dazu, auch bei der aktuellen Bestellung Trinkgeld zu geben.”"
   ],
   "id": "ff8812c89bb3fda4"
  },
  {
   "metadata": {},
   "cell_type": "code",
   "outputs": [],
   "execution_count": null,
   "source": [
    "from scipy.stats import chi2_contingency\n",
    "\n",
    "# Schritt 1: Daten vorbereiten\n",
    "# Angenommen, df_orders enthält die Spalten 'user_id', 'order_number', und 'tip'\n",
    "df_orders = df_orders.sort_values(by=['user_id', 'order_number'])  # Sortieren nach Benutzer und Bestellnummer\n",
    "\n",
    "# Schritt 2: Trinkgeld bei der vorhergehenden Bestellung berechnen\n",
    "df_orders['previous_tip'] = df_orders.groupby('user_id')['tip'].shift(1)  # Vorhergehendes Trinkgeld\n",
    "df_orders['previous_tip'] = df_orders['previous_tip'].fillna(False).astype(bool)  # NaN als False behandeln\n",
    "\n",
    "# Schritt 3: Kreuztabelle erstellen\n",
    "contingency_table = pd.crosstab(df_orders['tip'], df_orders['previous_tip'])\n",
    "\n",
    "# Schritt 4: Chi-Quadrat-Test durchführen\n",
    "chi2, p, dof, expected = chi2_contingency(contingency_table)\n",
    "\n",
    "# Ergebnisse anzeigen\n",
    "print(\"Kreuztabelle der Häufigkeiten:\")\n",
    "print(contingency_table)\n",
    "print(\"\\nChi-Quadrat-Test:\")\n",
    "print(f\"Chi2-Wert: {chi2:.2f}\")\n",
    "print(f\"p-Wert: {p:.4f}\")\n",
    "print(f\"Freiheitsgrade: {dof}\")\n",
    "\n",
    "# Interpretation\n",
    "if p < 0.05:\n",
    "    print(\"\\nErgebnis: Es besteht ein signifikanter Zusammenhang zwischen dem Trinkgeldverhalten der aktuellen und der vorhergehenden Bestellung.\")\n",
    "else:\n",
    "    print(\"\\nErgebnis: Es besteht kein signifikanter Zusammenhang zwischen dem Trinkgeldverhalten der aktuellen und der vorhergehenden Bestellung.\")"
   ],
   "id": "11d2665bcea070e0"
  },
  {
   "metadata": {},
   "cell_type": "code",
   "outputs": [],
   "execution_count": null,
   "source": "df",
   "id": "47d806b383314068"
  },
  {
   "metadata": {},
   "cell_type": "code",
   "outputs": [],
   "execution_count": null,
   "source": "",
   "id": "90742906d25669ff"
  },
  {
   "metadata": {},
   "cell_type": "code",
   "outputs": [],
   "execution_count": null,
   "source": "",
   "id": "fc7363fd6c2fd562"
  },
  {
   "metadata": {},
   "cell_type": "code",
   "outputs": [],
   "execution_count": null,
   "source": "",
   "id": "594b7fae1b23bd8"
  },
  {
   "metadata": {},
   "cell_type": "code",
   "outputs": [],
   "execution_count": null,
   "source": "",
   "id": "51aa795bb4ef21ef"
  },
  {
   "metadata": {},
   "cell_type": "code",
   "outputs": [],
   "execution_count": null,
   "source": "",
   "id": "60ca47bc3f01dd8c"
  },
  {
   "metadata": {},
   "cell_type": "code",
   "outputs": [],
   "execution_count": null,
   "source": "",
   "id": "2e9fa77c2d47ac6f"
  },
  {
   "metadata": {},
   "cell_type": "code",
   "outputs": [],
   "execution_count": null,
   "source": "",
   "id": "e57581583ac29f93"
  },
  {
   "metadata": {},
   "cell_type": "code",
   "outputs": [],
   "execution_count": null,
   "source": "",
   "id": "eb8a4d7d16fbe6e9"
  },
  {
   "metadata": {},
   "cell_type": "code",
   "outputs": [],
   "execution_count": null,
   "source": "",
   "id": "d9a06ce156cd98d2"
  },
  {
   "metadata": {},
   "cell_type": "code",
   "outputs": [],
   "execution_count": null,
   "source": "",
   "id": "eb3adb1de8661408"
  },
  {
   "metadata": {},
   "cell_type": "code",
   "outputs": [],
   "execution_count": null,
   "source": "",
   "id": "45f71c8e630aa17d"
  },
  {
   "metadata": {},
   "cell_type": "code",
   "outputs": [],
   "execution_count": null,
   "source": "",
   "id": "c41d7b72254e5380"
  },
  {
   "metadata": {},
   "cell_type": "code",
   "outputs": [],
   "execution_count": null,
   "source": "",
   "id": "dfde103949d1c064"
  },
  {
   "metadata": {},
   "cell_type": "code",
   "outputs": [],
   "execution_count": null,
   "source": "",
   "id": "292e460fda8cbd4a"
  }
 ],
 "metadata": {},
 "nbformat": 5,
 "nbformat_minor": 9
}
